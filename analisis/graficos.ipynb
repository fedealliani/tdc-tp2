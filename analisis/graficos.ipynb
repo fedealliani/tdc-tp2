{
 "cells": [
  {
   "cell_type": "code",
   "execution_count": 2,
   "metadata": {
    "collapsed": true
   },
   "outputs": [],
   "source": [
    "import codigo\n",
    "import sys"
   ]
  },
  {
   "cell_type": "code",
   "execution_count": null,
   "metadata": {
    "scrolled": true
   },
   "outputs": [
    {
     "name": "stdout",
     "output_type": "stream",
     "text": [
      "------------------------------\n",
      "IP destino: 129.78.5.8\n",
      "------------------------------\n",
      "\n",
      " 1 (192.168.0.1)  10.52 ms  8.90 ms  4.58 ms  2.55 ms  22.07 ms  175.09 ms  14.86 ms  49.14 ms  71.95 ms  120.44 ms  132.98 ms  107.44 ms  499.54 ms  7.11 ms  1.22 ms  2.80 ms  613.57 ms  50.62 ms  44.39 ms  21.58 ms  60.03 ms  70.29 ms  20.00 ms  88.54 ms  25.14 ms  244.61 ms  88.44 ms  16.39 ms  54.88 ms  102.92 ms \n",
      "\n",
      " 2 * * * * * * * * * * * * * * * * * * * * * * * * * * * * * * \n",
      "\n",
      " 3 * * * * * * * * * * * * * * * * * * * * * * * * * * * * * * \n",
      "\n",
      " 4 * * * * * * * * * * * * * * * * * * * * * * * * * * * * * * \n",
      "\n",
      " 5 (200.89.165.250)  324.63 ms  272.63 ms  716.92 ms  666.71 ms  574.47 ms  558.89 ms  193.50 ms  511.50 ms  287.14 ms  608.44 ms  150.96 ms  926.21 ms  546.41 ms *  810.16 ms * * * * * * * *  -721.06 ms  -495.73 ms  498.61 ms  220.87 ms  479.47 ms  415.95 ms  363.78 ms  381.66 ms  178.48 ms  266.27 ms * *  388.65 ms  132.83 ms  50.83 ms  96.64 ms  63.01 ms  95.11 ms  66.43 ms  127.04 ms  344.07 ms  240.45 ms \n",
      "\n",
      " 6 (190.216.88.33)  143.68 ms * * * * *  -19.28 ms *  929.00 ms  113.99 ms  120.54 ms  349.27 ms  167.04 ms  123.28 ms  147.73 ms  89.55 ms  143.43 ms * * * * *  85.47 ms  131.33 ms  41.24 ms  32.72 ms  44.49 ms  40.03 ms  40.04 ms  189.59 ms  89.38 ms  58.97 ms  44.15 ms *  193.30 ms  71.75 ms  235.83 ms  242.43 ms  19.35 ms  51.42 ms  48.13 ms  62.25 ms  49.94 ms  53.49 ms  15.42 ms \n",
      "\n",
      " 7 (67.17.94.249)  144.38 ms  174.26 ms  153.42 ms  167.12 ms  187.38 ms  160.38 ms  166.71 ms  276.88 ms  159.07 ms  191.58 ms  230.33 ms  198.11 ms  167.18 ms  138.82 ms  166.05 ms  199.36 ms  376.08 ms  175.95 ms  170.06 ms  153.66 ms  143.23 ms  158.41 ms  146.66 ms  144.39 ms  142.16 ms  169.56 ms  145.78 ms * *  152.97 ms  918.53 ms  234.62 ms  186.81 ms  307.56 ms  209.65 ms  384.00 ms  217.41 ms  251.41 ms  336.88 ms  249.24 ms  310.64 ms  297.11 ms *  591.69 ms  201.26 ms \n",
      "\n",
      " 8 * * * * * * * * * * * * * * * * * * * * * * * * * * * * * * \n",
      "\n",
      " 9 * * * * * * * * * * * * * * * * * * * * * * * * * * * * * * \n",
      "\n",
      "10 (4.68.127.54)  419.85 ms *  750.32 ms  8.99 ms  861.77 ms * *  302.06 ms  155.30 ms  540.86 ms  571.64 ms  532.02 ms *  394.16 ms *  477.50 ms  201.49 ms  179.99 ms  802.33 ms  371.53 ms  987.99 ms *  551.20 ms  79.18 ms  345.33 ms  219.07 ms  405.25 ms  292.62 ms * * *  352.20 ms *  852.32 ms  407.66 ms  244.63 ms *  86.99 ms *  267.77 ms *  598.18 ms *  343.30 ms * \n",
      "\n",
      "11 (4.68.127.54)  347.56 ms (129.250.3.40)  941.44 ms *  393.71 ms  933.65 ms *  220.48 ms *  636.93 ms  310.31 ms *  494.47 ms * * * * *  956.18 ms  673.73 ms  968.92 ms  958.62 ms  920.94 ms *  258.16 ms  497.32 ms  299.24 ms *  79.74 ms  80.21 ms  57.68 ms  67.99 ms  278.59 ms *  86.53 ms *  103.55 ms  478.25 ms  309.48 ms *  82.94 ms * * *  26.82 ms *  299.09 ms  934.12 ms  76.58 ms  21.72 ms *  561.86 ms  436.86 ms  368.60 ms  185.57 ms  371.39 ms  704.28 ms  723.27 ms *  239.03 ms  396.40 ms \n",
      "\n",
      "12 * (129.250.4.88)  127.02 ms  740.58 ms *  28.86 ms  100.01 ms  37.74 ms  150.83 ms  37.47 ms  54.91 ms * * *  601.11 ms  502.55 ms *  328.00 ms  -19.26 ms  633.34 ms * *  167.14 ms  324.32 ms *  507.60 ms  299.72 ms  497.22 ms  719.64 ms *  278.44 ms *  830.64 ms * *  884.52 ms  487.65 ms  969.72 ms *  85.39 ms  349.96 ms * *  53.82 ms *  296.58 ms  810.30 ms *  -3.68 ms *  970.05 ms  13.78 ms  325.13 ms  15.20 ms  343.86 ms *  114.90 ms  496.04 ms  405.58 ms  215.33 ms * \n",
      "\n",
      "13 * * (129.250.2.219)  76.82 ms *  243.03 ms  265.79 ms  594.69 ms  536.17 ms  578.04 ms  612.70 ms  449.02 ms  782.46 ms  525.33 ms * *  253.55 ms  246.16 ms  982.71 ms  170.28 ms  242.66 ms  362.65 ms  335.37 ms  195.86 ms  226.56 ms  413.55 ms  336.51 ms  482.93 ms  443.34 ms  768.14 ms  407.63 ms *  21.93 ms  245.92 ms  83.51 ms  401.28 ms  -23.99 ms  204.03 ms  47.11 ms  342.74 ms *  40.27 ms *  639.62 ms  748.67 ms  351.11 ms \n",
      "\n",
      "14 (129.250.7.69)  399.91 ms  266.49 ms  199.89 ms  228.61 ms  252.29 ms  232.78 ms  237.56 ms  237.45 ms  555.03 ms  188.68 ms  440.29 ms  537.42 ms  381.31 ms  593.47 ms  373.31 ms  620.69 ms  254.86 ms *  69.10 ms *  464.91 ms  91.86 ms  323.02 ms  335.12 ms  117.16 ms  245.62 ms  271.57 ms * *  713.65 ms *  674.66 ms  270.80 ms  298.99 ms  483.52 ms *  212.44 ms *  395.60 ms *  240.10 ms  28.77 ms  403.88 ms  373.19 ms  407.82 ms \n",
      "\n",
      "15 * * (129.250.3.17)  101.43 ms *  8.58 ms  242.39 ms  226.32 ms  190.57 ms  235.94 ms  283.16 ms  365.63 ms  235.52 ms  301.42 ms  295.09 ms  921.25 ms * * * * * *  265.37 ms  470.62 ms  423.76 ms *  214.98 ms *  646.22 ms  189.41 ms  749.96 ms  551.39 ms * *  288.00 ms *  373.51 ms *  256.76 ms  732.44 ms  309.43 ms  639.70 ms  27.57 ms *  959.06 ms  14.66 ms *  65.41 ms  891.14 ms *  135.90 ms  758.86 ms *  262.81 ms * *  96.40 ms *  992.99 ms  135.64 ms * \n",
      "\n",
      "16 * * (129.250.3.17)  150.27 ms (129.250.3.234)  3.05 ms *  66.56 ms  307.09 ms  301.10 ms  457.66 ms *  148.82 ms  327.49 ms  143.67 ms  305.50 ms  471.61 ms "
     ]
    }
   ],
   "source": [
    "sys.argv = ['ej1.py', '-d', 'sydney.edu.au'] \n",
    "codigo.main()"
   ]
  },
  {
   "cell_type": "code",
   "execution_count": 3,
   "metadata": {},
   "outputs": [
    {
     "name": "stdout",
     "output_type": "stream",
     "text": [
      "------------------------------\n",
      "IP destino: 192.168.0.1\n",
      "------------------------------\n",
      "\n",
      " 1 (192.168.0.1)  291.39 ms  323.92 ms  351.98 ms  147.31 ms *  137.55 ms  224.24 ms  110.45 ms  142.20 ms  126.61 ms  529.89 ms  165.83 ms  215.61 ms  109.56 ms  77.41 ms  167.57 ms  173.55 ms  536.54 ms  131.48 ms  105.01 ms  84.59 ms  14.51 ms  7.74 ms  50.23 ms  43.14 ms  5.87 ms  98.84 ms  6.02 ms  96.94 ms  96.25 ms  221.93 ms  38.48 ms  122.26 ms  53.01 ms  270.36 ms  116.38 ms  22.52 ms  175.26 ms  84.69 ms  133.28 ms  205.64 ms  35.34 ms  25.42 ms  145.10 ms  47.65 ms \n",
      "\n",
      "Se ha llegado al host 192.168.0.1 en 1 hops\n",
      "\n"
     ]
    },
    {
     "ename": "ZeroDivisionError",
     "evalue": "float division by zero",
     "output_type": "error",
     "traceback": [
      "\u001b[0;31m---------------------------------------------------------------------------\u001b[0m",
      "\u001b[0;31mZeroDivisionError\u001b[0m                         Traceback (most recent call last)",
      "\u001b[0;32m<ipython-input-3-eed12a92c39a>\u001b[0m in \u001b[0;36m<module>\u001b[0;34m()\u001b[0m\n\u001b[1;32m      1\u001b[0m \u001b[0msys\u001b[0m\u001b[0;34m.\u001b[0m\u001b[0margv\u001b[0m \u001b[0;34m=\u001b[0m \u001b[0;34m[\u001b[0m\u001b[0;34m'ej1.py'\u001b[0m\u001b[0;34m,\u001b[0m \u001b[0;34m'-d'\u001b[0m\u001b[0;34m,\u001b[0m \u001b[0;34m'192.168.0.1'\u001b[0m\u001b[0;34m]\u001b[0m\u001b[0;34m\u001b[0m\u001b[0m\n\u001b[0;32m----> 2\u001b[0;31m \u001b[0mcodigo\u001b[0m\u001b[0;34m.\u001b[0m\u001b[0mmain\u001b[0m\u001b[0;34m(\u001b[0m\u001b[0;34m)\u001b[0m\u001b[0;34m\u001b[0m\u001b[0m\n\u001b[0m",
      "\u001b[0;32m/home/franco/Repos/facultad/redes/tdc-tp2/analisis/codigo.py\u001b[0m in \u001b[0;36mmain\u001b[0;34m()\u001b[0m\n\u001b[1;32m    345\u001b[0m \u001b[0;34m\u001b[0m\u001b[0m\n\u001b[1;32m    346\u001b[0m \u001b[0;31m# Calculamos los outliers y los guardamos en una variable global\u001b[0m\u001b[0;34m\u001b[0m\u001b[0;34m\u001b[0m\u001b[0m\n\u001b[0;32m--> 347\u001b[0;31m     \u001b[0mfindOutliers\u001b[0m\u001b[0;34m(\u001b[0m\u001b[0;34m)\u001b[0m\u001b[0;34m\u001b[0m\u001b[0m\n\u001b[0m\u001b[1;32m    348\u001b[0m \u001b[0;34m\u001b[0m\u001b[0m\n\u001b[1;32m    349\u001b[0m \u001b[0;31m# Calculo la media de todas las distancias\u001b[0m\u001b[0;34m\u001b[0m\u001b[0;34m\u001b[0m\u001b[0m\n",
      "\u001b[0;32m/home/franco/Repos/facultad/redes/tdc-tp2/analisis/codigo.py\u001b[0m in \u001b[0;36mfindOutliers\u001b[0;34m()\u001b[0m\n\u001b[1;32m    106\u001b[0m                     \u001b[0msumatoria\u001b[0m \u001b[0;34m+=\u001b[0m \u001b[0;34m(\u001b[0m\u001b[0;34m(\u001b[0m\u001b[0mvector\u001b[0m\u001b[0;34m[\u001b[0m\u001b[0mx\u001b[0m\u001b[0;34m]\u001b[0m\u001b[0;34m[\u001b[0m\u001b[0;36m2\u001b[0m\u001b[0;34m]\u001b[0m \u001b[0;34m-\u001b[0m \u001b[0mmedia\u001b[0m\u001b[0;34m)\u001b[0m\u001b[0;34m**\u001b[0m\u001b[0;36m2\u001b[0m\u001b[0;34m)\u001b[0m\u001b[0;34m\u001b[0m\u001b[0m\n\u001b[1;32m    107\u001b[0m \u001b[0;34m\u001b[0m\u001b[0m\n\u001b[0;32m--> 108\u001b[0;31m                 \u001b[0mdesvioEstandar\u001b[0m \u001b[0;34m=\u001b[0m \u001b[0mmath\u001b[0m\u001b[0;34m.\u001b[0m\u001b[0msqrt\u001b[0m\u001b[0;34m(\u001b[0m\u001b[0;34m(\u001b[0m\u001b[0msumatoria\u001b[0m\u001b[0;34m/\u001b[0m\u001b[0;34m(\u001b[0m\u001b[0mlen\u001b[0m\u001b[0;34m(\u001b[0m\u001b[0mvector\u001b[0m\u001b[0;34m)\u001b[0m\u001b[0;34m-\u001b[0m\u001b[0;36m1\u001b[0m\u001b[0;34m)\u001b[0m\u001b[0;34m)\u001b[0m\u001b[0;34m)\u001b[0m\u001b[0;34m\u001b[0m\u001b[0m\n\u001b[0m\u001b[1;32m    109\u001b[0m \u001b[0;34m\u001b[0m\u001b[0m\n\u001b[1;32m    110\u001b[0m                 \u001b[0;31m# Calculo el desvio estandar absoluto de cada valor y lo agrego al cuarto elemento de la tupla\u001b[0m\u001b[0;34m\u001b[0m\u001b[0;34m\u001b[0m\u001b[0m\n",
      "\u001b[0;31mZeroDivisionError\u001b[0m: float division by zero"
     ]
    }
   ],
   "source": [
    "sys.argv = ['ej1.py', '-d', '192.168.0.1'] \n",
    "codigo.main()"
   ]
  }
 ],
 "metadata": {
  "kernelspec": {
   "display_name": "Python 3",
   "language": "python",
   "name": "python3"
  }
 },
 "nbformat": 4,
 "nbformat_minor": 2
}
